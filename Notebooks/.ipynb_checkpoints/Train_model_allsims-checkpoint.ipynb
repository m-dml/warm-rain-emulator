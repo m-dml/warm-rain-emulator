{
 "cells": [
  {
   "cell_type": "code",
   "execution_count": 1,
   "id": "591b7ceb",
   "metadata": {},
   "outputs": [],
   "source": [
    "import os\n",
    "\n",
    "from matplotlib import pyplot as plt\n",
    "\n",
    "\n",
    "import numpy as np\n",
    "import torch\n",
    "from torch import nn\n",
    "\n",
    "from pytorch_lightning.callbacks import ModelCheckpoint\n",
    "from src.models.plModel import LightningModel\n",
    "from src.utils.plDataloader import DataModule\n",
    "import pytorch_lightning as pl\n",
    "\n",
    "from pytorch_lightning import Trainer\n",
    "import seaborn as sns\n",
    "import matplotlib "
   ]
  },
  {
   "cell_type": "code",
   "execution_count": 2,
   "id": "ac68d855",
   "metadata": {},
   "outputs": [],
   "source": [
    "GPUS = 2\n",
    "N_EPOCHS = 100"
   ]
  },
  {
   "cell_type": "code",
   "execution_count": null,
   "id": "d03a753e",
   "metadata": {},
   "outputs": [
    {
     "name": "stderr",
     "output_type": "stream",
     "text": [
      "Global seed set to 42\n"
     ]
    },
    {
     "name": "stdout",
     "output_type": "stream",
     "text": [
      "Train Test Val Split Done\n",
      "Testing Dataset starts here\n",
      "(328157, 4)\n",
      "Calculated tendencies\n",
      "Testing Dataset starts here\n",
      "(328157, 9)\n",
      "Testing Dataset starts here\n",
      "(328157, 6)\n",
      "Inputs Created\n",
      "Testing Dataset starts here\n",
      "(328157, 4)\n",
      "Created Outputs\n",
      "Train Test Val Split Done\n"
     ]
    },
    {
     "name": "stderr",
     "output_type": "stream",
     "text": [
      "GPU available: True, used: True\n",
      "TPU available: None, using: 0 TPU cores\n",
      "LOCAL_RANK: 0 - CUDA_VISIBLE_DEVICES: [0,1]\n",
      "Global seed set to 42\n",
      "initializing ddp: GLOBAL_RANK: 0, MEMBER: 1/2\n"
     ]
    }
   ],
   "source": [
    "def cli_main():\n",
    "    pl.seed_everything(42)\n",
    "\n",
    "   \n",
    "\n",
    "    data_module = DataModule(batch_size=256,num_workers=40)\n",
    "    data_module.setup()\n",
    "    \n",
    "    # setting up the model:\n",
    "    pl_model = LightningModel(updates_mean=data_module.updates_mean,updates_std=data_module.updates_std)\n",
    "\n",
    "    if GPUS < 1:\n",
    "        callbacks = None\n",
    "    else:\n",
    "        callbacks = [pl.callbacks.GPUStatsMonitor()]\n",
    "\n",
    "    # initializes a callback to save the 5 best model weights measured by the lowest generator loss:\n",
    "    checkpoint_callback = ModelCheckpoint(monitor=\"val_loss\", save_top_k=1, mode='min', save_last=True)\n",
    "\n",
    "    trainer = pl.Trainer(callbacks=callbacks, checkpoint_callback=checkpoint_callback, gpus=GPUS,num_nodes=1, max_epochs=N_EPOCHS,accelerator=\"ddp\",num_sanity_val_steps=0)\n",
    "\n",
    "    trainer.fit(pl_model,data_module)\n",
    "\n",
    "    return data_module,pl_model,trainer\n",
    "\n",
    "\n",
    "if __name__ == '__main__':\n",
    "     _dm,_model, _trainer = cli_main()"
   ]
  },
  {
   "cell_type": "code",
   "execution_count": null,
   "id": "ab28afb4",
   "metadata": {},
   "outputs": [],
   "source": []
  }
 ],
 "metadata": {
  "kernelspec": {
   "display_name": "Python 3",
   "language": "python",
   "name": "python3"
  },
  "language_info": {
   "codemirror_mode": {
    "name": "ipython",
    "version": 3
   },
   "file_extension": ".py",
   "mimetype": "text/x-python",
   "name": "python",
   "nbconvert_exporter": "python",
   "pygments_lexer": "ipython3",
   "version": "3.8.5"
  }
 },
 "nbformat": 4,
 "nbformat_minor": 5
}
