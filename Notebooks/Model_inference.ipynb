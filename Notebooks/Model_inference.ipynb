{
 "cells": [
  {
   "cell_type": "code",
   "execution_count": 1,
   "id": "e0b0b64e",
   "metadata": {},
   "outputs": [],
   "source": [
    "import os\n",
    "\n",
    "import numpy as np\n",
    "import torch\n",
    "from torch import nn\n",
    "import sys\n",
    "os.chdir(\"..\")\n",
    "from src.models.plModel import LightningModel\n",
    "\n",
    "from src.utils.IndexDataloader import DataModule\n",
    "from src.solvers.ode import simulation_forecast,SB_forecast\n",
    "from pytorch_lightning.callbacks import ModelCheckpoint\n",
    "\n",
    "import pytorch_lightning as pl\n",
    "\n",
    "import seaborn as sns\n",
    "import matplotlib \n",
    "from matplotlib import pyplot as plt\n",
    "from matplotlib.pyplot import cm\n",
    "from matplotlib import ticker\n",
    "import pytorch_lightning as pl\n"
   ]
  },
  {
   "cell_type": "code",
   "execution_count": 12,
   "id": "53d4a4b2",
   "metadata": {},
   "outputs": [],
   "source": [
    "%matplotlib widget\n",
    "import ipywidgets as widgets\n",
    "%matplotlib inline"
   ]
  },
  {
   "cell_type": "code",
   "execution_count": 3,
   "id": "4f9ee6fb",
   "metadata": {},
   "outputs": [
    {
     "name": "stdout",
     "output_type": "stream",
     "text": [
      "Train Test Val Split Done\n"
     ]
    }
   ],
   "source": [
    "#Load the datamodule\n",
    "data_module = DataModule(step_size=2,avg_dataloader=True)\n",
    "data_module.setup()"
   ]
  },
  {
   "cell_type": "code",
   "execution_count": 4,
   "id": "80cad5f0",
   "metadata": {},
   "outputs": [],
   "source": [
    "#Loading the complete data as masked array\n",
    "with np.load('/gpfs/work/sharmas/mc-snow-data/big_box.npz') as npz:\n",
    "        all_arr = np.ma.MaskedArray(**npz)\n",
    "        \n",
    "all_arr=all_arr.astype(np.float32)\n",
    "arr=np.mean(all_arr[:,:,:,:98],axis=-1)"
   ]
  },
  {
   "cell_type": "code",
   "execution_count": 5,
   "id": "830acca8",
   "metadata": {},
   "outputs": [
    {
     "name": "stdout",
     "output_type": "stream",
     "text": [
      "not using hard constraints on updates while choosing to conserve mass can lead to negative moments\n"
     ]
    }
   ],
   "source": [
    "pl_model = LightningModel(inputs_mean=data_module.inputs_mean, inputs_std=data_module.inputs_std,\n",
    "                          updates_mean=data_module.updates_mean, updates_std=data_module.updates_std) \n",
    "#Load the saved model here\n",
    "new_model = pl_model.load_from_checkpoint(\"/gpfs/work/sharmas/mc-snow-data/lightning_logs/version_595250/checkpoints/epoch=68-step=5892944.ckpt\")\n",
    "\n"
   ]
  },
  {
   "cell_type": "markdown",
   "id": "1fa2da0a",
   "metadata": {},
   "source": [
    "## Plotting starts here"
   ]
  },
  {
   "cell_type": "code",
   "execution_count": 6,
   "id": "b7cdc39f",
   "metadata": {},
   "outputs": [],
   "source": [
    "#save the range for initial conditions\n",
    "lo_=np.unique(arr[0,-4,:])\n",
    "rm_=np.unique(arr[0,-3,:])\n",
    "nu_=np.unique(arr[0,-2,:])"
   ]
  },
  {
   "cell_type": "code",
   "execution_count": 10,
   "id": "736f045d",
   "metadata": {},
   "outputs": [],
   "source": [
    "#For extracting simulation based on initial conditions\n",
    "def pos_calc(lo_,rm_,nu_):\n",
    "    m=np.intersect1d(np.where(np.around(arr[0,-4,:],7)==np.array([lo_])), np.where(np.around(arr[0,-3,:],7)==np.array([rm_])))\n",
    "    l=np.where(arr[0,-2,:]==nu_)\n",
    "    k=np.intersect1d(m,l)\n",
    "    return k\n",
    "    \n",
    "    "
   ]
  },
  {
   "cell_type": "code",
   "execution_count": 7,
   "id": "5e67fda7",
   "metadata": {},
   "outputs": [],
   "source": [
    "#The main plotting function\n",
    "def plot_simulation(predictions_orig,targets_orig,sb_preds,var_all,model_params,num):\n",
    "    \n",
    "    sns.set_style(\"darkgrid\", {\"grid.color\": \".6\", \"grid.linestyle\": \":\"})\n",
    "    var=['Lc','Nc','Lr','Nr']\n",
    "    color=[\"#26235b\",\"#bc473a\",\"#812878\",\"#f69824\"]\n",
    "    fig= plt.figure()\n",
    "    fig.set_size_inches(13, 10)\n",
    "    time= [x for x in range(0, len(predictions_orig))]\n",
    "    #color=iter(cm.rainbow(np.linspace(0,1,4)))\n",
    "    for i in range(4):\n",
    "        ax = fig.add_subplot(2,2, i + 1)\n",
    "        #c=next(color)\n",
    "        plt.plot(time[:],predictions_orig[:,i],c=color[i])\n",
    "        plt.plot(time[:],targets_orig[:,i],c='black')\n",
    "        plt.plot(time[:-1],sb_preds[:,i],c=color[i],linestyle='dashed')\n",
    "        plt.fill_between(time[:], targets_orig[:,i]-var_all[:len(time),i], targets_orig[:,i]+var_all[:len(time),i],facecolor = \"gray\")\n",
    "        #plt.plot(time[:], targets_orig[:,i]-var_all[:len(time),i])\n",
    "        plt.title(var[i])\n",
    "        plt.xlabel('Timestep')    \n",
    "\n",
    "        plt.legend(['Neural Network','Simulations','SB2001'])\n",
    "    \n",
    "    \n",
    "    fig.suptitle(\"Lo: %.4f; rm:%.6f ; Nu: %.1f \"%((model_params[0]),(model_params[1]),(model_params[2])), fontsize=\"x-large\")\n",
    "    plt.show()\n",
    "    "
   ]
  },
  {
   "cell_type": "code",
   "execution_count": 8,
   "id": "9b598430",
   "metadata": {},
   "outputs": [],
   "source": [
    "#For calculating errors\n",
    "def calc_errors(all_arr,n):\n",
    "\n",
    "    var_1=np.std(all_arr[:,1,n,:],axis=-1)\n",
    "    var_2=np.std(all_arr[:,2,n,:],axis=-1)\n",
    "    var_3=np.std(all_arr[:,4,n,:],axis=-1)\n",
    "    var_4=np.std(all_arr[:,5,n,:],axis=-1)\n",
    "    var_all=np.concatenate((var_1.reshape(1,-1),var_2.reshape(1,-1),var_3.reshape(1,-1),var_4.reshape(1,-1)),axis=0)\n",
    "    return var_all"
   ]
  },
  {
   "cell_type": "code",
   "execution_count": 13,
   "id": "83d446c8",
   "metadata": {},
   "outputs": [
    {
     "data": {
      "application/vnd.jupyter.widget-view+json": {
       "model_id": "2658ef43ce04420f90fbacd2877fdc6f",
       "version_major": 2,
       "version_minor": 0
      },
      "text/plain": [
       "interactive(children=(Dropdown(description='lo', options=(0.0002, 0.0003, 0.0004, 0.0005, 0.0006, 0.0007, 0.00…"
      ]
     },
     "metadata": {},
     "output_type": "display_data"
    }
   ],
   "source": [
    "@widgets.interact(lo=np.around(lo_,7),rm=np.around(rm_,7), nu=nu_)\n",
    "def update(lo=lo_[0],rm=rm_[0],nu=nu_[0]):\n",
    "    sim_num = pos_calc(lo,rm,nu).item()\n",
    "   \n",
    "    new_forecast = simulation_forecast(\n",
    "    arr, new_model, sim_num, data_module.inputs_mean, data_module.inputs_std,data_module.updates_mean,data_module.updates_std\n",
    "    )\n",
    "\n",
    "    new_forecast.test()\n",
    "\n",
    "    sb_forecast=SB_forecast(arr,sim_num)\n",
    "    sb_forecast.SB_calc()\n",
    "    predictions_sb=np.asarray(sb_forecast.predictions).reshape(-1,4)\n",
    "    var_all=np.transpose(calc_errors(all_arr,sim_num))\n",
    "    plot_simulation(np.asarray(new_forecast.moment_preds).reshape(-1,4),new_forecast.orig,predictions_sb,var_all,new_forecast.model_params,num=100)\n",
    "   "
   ]
  }
 ],
 "metadata": {
  "kernelspec": {
   "display_name": "Python 3 (ipykernel)",
   "language": "python",
   "name": "python3"
  },
  "language_info": {
   "codemirror_mode": {
    "name": "ipython",
    "version": 3
   },
   "file_extension": ".py",
   "mimetype": "text/x-python",
   "name": "python",
   "nbconvert_exporter": "python",
   "pygments_lexer": "ipython3",
   "version": "3.8.5"
  }
 },
 "nbformat": 4,
 "nbformat_minor": 5
}
