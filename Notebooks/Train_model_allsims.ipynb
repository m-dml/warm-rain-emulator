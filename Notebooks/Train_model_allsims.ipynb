{
 "cells": [
  {
   "cell_type": "code",
   "execution_count": 1,
   "id": "591b7ceb",
   "metadata": {},
   "outputs": [],
   "source": [
    "import os\n",
    "\n",
    "from matplotlib import pyplot as plt\n",
    "\n",
    "\n",
    "import numpy as np\n",
    "import torch\n",
    "from torch import nn\n",
    "\n",
    "from pytorch_lightning.callbacks import ModelCheckpoint\n",
    "from src.models.plModel import LightningModel\n",
    "from src.utils.plDataloader import DataModule\n",
    "import pytorch_lightning as pl\n",
    "\n",
    "from pytorch_lightning import Trainer\n",
    "import seaborn as sns\n",
    "import matplotlib "
   ]
  },
  {
   "cell_type": "code",
   "execution_count": 2,
   "id": "ac68d855",
   "metadata": {},
   "outputs": [],
   "source": [
    "GPUS = 2\n",
    "N_EPOCHS = 100"
   ]
  },
  {
   "cell_type": "code",
   "execution_count": null,
   "id": "d03a753e",
   "metadata": {},
   "outputs": [
    {
     "name": "stderr",
     "output_type": "stream",
     "text": [
      "Global seed set to 42\n"
     ]
    },
    {
     "name": "stdout",
     "output_type": "stream",
     "text": [
      "Train Test Val Split Done\n",
      "Testing Dataset starts here\n",
      "(328157, 4)\n",
      "Calculated tendencies\n",
      "Testing Dataset starts here\n",
      "(328157, 9)\n",
      "Testing Dataset starts here\n",
      "(328157, 6)\n",
      "Inputs Created\n"
     ]
    },
    {
     "name": "stderr",
     "output_type": "stream",
     "text": [
      "GPU available: True, used: True\n",
      "TPU available: None, using: 0 TPU cores\n",
      "LOCAL_RANK: 0 - CUDA_VISIBLE_DEVICES: [0,1]\n"
     ]
    },
    {
     "name": "stdout",
     "output_type": "stream",
     "text": [
      "Testing Dataset starts here\n",
      "(328157, 4)\n",
      "Created Outputs\n",
      "Train Test Val Split Done\n"
     ]
    },
    {
     "name": "stderr",
     "output_type": "stream",
     "text": [
      "\n",
      "  | Name  | Type      | Params\n",
      "------------------------------------\n",
      "0 | model | plNetwork | 163 K \n",
      "------------------------------------\n",
      "163 K     Trainable params\n",
      "0         Non-trainable params\n",
      "163 K     Total params\n"
     ]
    },
    {
     "data": {
      "application/vnd.jupyter.widget-view+json": {
       "model_id": "9e7d2cd7472640c58fc129075cdf509a",
       "version_major": 2,
       "version_minor": 0
      },
      "text/plain": [
       "Training: 0it [00:00, ?it/s]"
      ]
     },
     "metadata": {},
     "output_type": "display_data"
    },
    {
     "name": "stderr",
     "output_type": "stream",
     "text": [
      "/gpfs/home/sharmas/miniconda3/lib/python3.8/site-packages/torch/nn/parallel/_functions.py:64: UserWarning: Was asked to gather along dimension 0, but all input tensors were scalars; will instead unsqueeze and return a vector.\n",
      "  warnings.warn('Was asked to gather along dimension 0, but all '\n"
     ]
    },
    {
     "data": {
      "application/vnd.jupyter.widget-view+json": {
       "model_id": "02669c86f2074525802f4491b72fac6b",
       "version_major": 2,
       "version_minor": 0
      },
      "text/plain": [
       "Validating: 0it [00:00, ?it/s]"
      ]
     },
     "metadata": {},
     "output_type": "display_data"
    }
   ],
   "source": [
    "def cli_main():\n",
    "    pl.seed_everything(42)\n",
    "\n",
    "   \n",
    "\n",
    "    data_module = DataModule(batch_size=256,num_workers=40)\n",
    "    data_module.setup()\n",
    "    \n",
    "   \n",
    "    pl_model = LightningModel(updates_mean=data_module.updates_mean,updates_std=data_module.updates_std)\n",
    "\n",
    "    if GPUS < 1:\n",
    "        callbacks = None\n",
    "    else:\n",
    "        callbacks = [pl.callbacks.GPUStatsMonitor()]\n",
    "\n",
    "   \n",
    "    checkpoint_callback = ModelCheckpoint(monitor=\"val_loss\", save_top_k=1, mode='min', save_last=True)\n",
    "\n",
    "    trainer = pl.Trainer(callbacks=callbacks, checkpoint_callback=checkpoint_callback, gpus=GPUS, max_epochs=N_EPOCHS,num_sanity_val_steps=0,accelerator='dp')\n",
    "\n",
    "    trainer.fit(pl_model,data_module)\n",
    "\n",
    "    return data_module,pl_model,trainer\n",
    "\n",
    "\n",
    "if __name__ == '__main__':\n",
    "     _dm,_model, _trainer = cli_main()"
   ]
  },
  {
   "cell_type": "code",
   "execution_count": null,
   "id": "ab28afb4",
   "metadata": {},
   "outputs": [],
   "source": []
  }
 ],
 "metadata": {
  "kernelspec": {
   "display_name": "Python 3",
   "language": "python",
   "name": "python3"
  },
  "language_info": {
   "codemirror_mode": {
    "name": "ipython",
    "version": 3
   },
   "file_extension": ".py",
   "mimetype": "text/x-python",
   "name": "python",
   "nbconvert_exporter": "python",
   "pygments_lexer": "ipython3",
   "version": "3.8.5"
  }
 },
 "nbformat": 4,
 "nbformat_minor": 5
}
